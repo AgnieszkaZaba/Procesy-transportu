{
 "cells": [
  {
   "metadata": {},
   "cell_type": "markdown",
   "source": [
    "# Some formulae that might be useful in this course\n",
    "[Python 3.13.2 documentation](https://docs.python.org/3/index.html)"
   ],
   "id": "7c86c22bf74158c8"
  },
  {
   "metadata": {},
   "cell_type": "markdown",
   "source": [
    "## imports\n",
    "What might be needed? Only when you're actualy using those packages"
   ],
   "id": "b7ee116ef39f82ac"
  },
  {
   "metadata": {},
   "cell_type": "markdown",
   "source": "For arrays and mathematical functions and more...",
   "id": "5f6c58d84a913f3"
  },
  {
   "metadata": {},
   "cell_type": "code",
   "outputs": [],
   "execution_count": null,
   "source": "import numpy as np",
   "id": "ea5a9d90e8215105"
  },
  {
   "metadata": {},
   "cell_type": "markdown",
   "source": "For plotting",
   "id": "44f0ca07e93d62b6"
  },
  {
   "metadata": {},
   "cell_type": "code",
   "outputs": [],
   "execution_count": null,
   "source": "from matplotlib import pyplot",
   "id": "8e44a9f420619ef"
  },
  {
   "metadata": {},
   "cell_type": "markdown",
   "source": "For showing and saving plots in svg or pdf format.",
   "id": "2d6081dacdedb554"
  },
  {
   "metadata": {},
   "cell_type": "code",
   "outputs": [],
   "execution_count": null,
   "source": "from open_atmos_jupyter_utils import show_plot #if not installed run !pip install open-atmos-jupyter-utils",
   "id": "6d592b617a4d5bdd"
  },
  {
   "metadata": {},
   "cell_type": "markdown",
   "source": "For using units and also be able to turn them off for calculations",
   "id": "870a3e99ce0071bb"
  },
  {
   "cell_type": "code",
   "id": "initial_id",
   "metadata": {
    "collapsed": true,
    "ExecuteTime": {
     "end_time": "2025-03-09T15:45:09.889177Z",
     "start_time": "2025-03-09T15:45:09.886848Z"
    }
   },
   "source": "from PySDM.physics import si #if not installed run !pip install PySDM #Fake units",
   "outputs": [],
   "execution_count": null
  },
  {
   "metadata": {},
   "cell_type": "markdown",
   "source": [
    "## NumPy arrays\n",
    "[NumPy website](https://numpy.org)\n",
    "Examples of functions:\n",
    "- `np.array`\n",
    "- `np.zeros`\n",
    "- `np.ones`\n",
    "- `np.linspace`\n",
    "\n",
    "You can find more in [The guide for absolute beginners](https://numpy.org/doc/stable/user/absolute_beginners.html)."
   ],
   "id": "79f3008a5e98cfab"
  },
  {
   "metadata": {
    "ExecuteTime": {
     "end_time": "2025-03-09T15:45:09.898850Z",
     "start_time": "2025-03-09T15:45:09.895401Z"
    }
   },
   "cell_type": "code",
   "source": "import numpy as np",
   "id": "223baeb006678f36",
   "outputs": [],
   "execution_count": 26
  },
  {
   "metadata": {
    "ExecuteTime": {
     "end_time": "2025-03-09T15:45:09.912996Z",
     "start_time": "2025-03-09T15:45:09.908280Z"
    }
   },
   "cell_type": "code",
   "source": [
    "array_from_tuple = np.array((0,1,6,2))\n",
    "array_from_tuple"
   ],
   "id": "a2c5a2dabc7f40fb",
   "outputs": [
    {
     "data": {
      "text/plain": [
       "array([0, 1, 6, 2])"
      ]
     },
     "execution_count": 27,
     "metadata": {},
     "output_type": "execute_result"
    }
   ],
   "execution_count": 27
  },
  {
   "metadata": {
    "ExecuteTime": {
     "end_time": "2025-03-09T15:45:09.929929Z",
     "start_time": "2025-03-09T15:45:09.926986Z"
    }
   },
   "cell_type": "code",
   "source": [
    "array_from_tuple_multi = np.array((0,1)*5)\n",
    "array_from_tuple_multi"
   ],
   "id": "9af6f30da2901a1e",
   "outputs": [
    {
     "data": {
      "text/plain": [
       "array([0, 1, 0, 1, 0, 1, 0, 1, 0, 1])"
      ]
     },
     "execution_count": 28,
     "metadata": {},
     "output_type": "execute_result"
    }
   ],
   "execution_count": 28
  },
  {
   "metadata": {
    "ExecuteTime": {
     "end_time": "2025-03-09T15:45:09.947549Z",
     "start_time": "2025-03-09T15:45:09.943850Z"
    }
   },
   "cell_type": "code",
   "source": [
    "shape = (3,4)\n",
    "array_with_zeros = np.zeros(shape=shape)\n",
    "array_with_zeros"
   ],
   "id": "245565b3daadcb6e",
   "outputs": [
    {
     "data": {
      "text/plain": [
       "array([[0., 0., 0., 0.],\n",
       "       [0., 0., 0., 0.],\n",
       "       [0., 0., 0., 0.]])"
      ]
     },
     "execution_count": 29,
     "metadata": {},
     "output_type": "execute_result"
    }
   ],
   "execution_count": 29
  },
  {
   "metadata": {
    "ExecuteTime": {
     "end_time": "2025-03-09T15:45:09.977741Z",
     "start_time": "2025-03-09T15:45:09.974733Z"
    }
   },
   "cell_type": "code",
   "source": [
    "array_with_ones = np.ones(shape=shape)\n",
    "array_with_ones"
   ],
   "id": "ca8e3e15541ebaf4",
   "outputs": [
    {
     "data": {
      "text/plain": [
       "array([[1., 1., 1., 1.],\n",
       "       [1., 1., 1., 1.],\n",
       "       [1., 1., 1., 1.]])"
      ]
     },
     "execution_count": 30,
     "metadata": {},
     "output_type": "execute_result"
    }
   ],
   "execution_count": 30
  },
  {
   "metadata": {
    "ExecuteTime": {
     "end_time": "2025-03-09T15:45:10.033605Z",
     "start_time": "2025-03-09T15:45:10.030718Z"
    }
   },
   "cell_type": "code",
   "source": [
    "interval = np.linspace(3.4, 7.1, num=5)\n",
    "interval"
   ],
   "id": "30e199b7d0b61955",
   "outputs": [
    {
     "data": {
      "text/plain": [
       "array([3.4  , 4.325, 5.25 , 6.175, 7.1  ])"
      ]
     },
     "execution_count": 31,
     "metadata": {},
     "output_type": "execute_result"
    }
   ],
   "execution_count": 31
  },
  {
   "metadata": {},
   "cell_type": "markdown",
   "source": "## loops",
   "id": "414e7cf79d376c62"
  },
  {
   "metadata": {
    "ExecuteTime": {
     "end_time": "2025-03-09T15:45:10.069512Z",
     "start_time": "2025-03-09T15:45:10.066774Z"
    }
   },
   "cell_type": "code",
   "source": "n= 5",
   "id": "f7385b2ef5ceca09",
   "outputs": [],
   "execution_count": 32
  },
  {
   "metadata": {
    "ExecuteTime": {
     "end_time": "2025-03-09T15:45:10.083188Z",
     "start_time": "2025-03-09T15:45:10.081138Z"
    }
   },
   "cell_type": "code",
   "source": [
    "for i in range(n):\n",
    "    print(f\"Index: {i}\")\n",
    "print(range(n))"
   ],
   "id": "dcfa711965241601",
   "outputs": [
    {
     "name": "stdout",
     "output_type": "stream",
     "text": [
      "Index: 0\n",
      "Index: 1\n",
      "Index: 2\n",
      "Index: 3\n",
      "Index: 4\n",
      "range(0, 5)\n"
     ]
    }
   ],
   "execution_count": 33
  },
  {
   "metadata": {
    "ExecuteTime": {
     "end_time": "2025-03-09T15:45:10.094381Z",
     "start_time": "2025-03-09T15:45:10.092507Z"
    }
   },
   "cell_type": "code",
   "source": [
    "for i, value in enumerate(range(1,n)):\n",
    "    print(f\"Index: {i}, value: {value}\")"
   ],
   "id": "b99962b9d4536a7f",
   "outputs": [
    {
     "name": "stdout",
     "output_type": "stream",
     "text": [
      "Index: 0, value: 1\n",
      "Index: 1, value: 2\n",
      "Index: 2, value: 3\n",
      "Index: 3, value: 4\n"
     ]
    }
   ],
   "execution_count": 34
  },
  {
   "metadata": {
    "ExecuteTime": {
     "end_time": "2025-03-09T15:45:23.003362Z",
     "start_time": "2025-03-09T15:45:22.999800Z"
    }
   },
   "cell_type": "code",
   "source": [
    "for i in np.linspace(1,2.19, n):\n",
    "    print(f\"Value: {i:.3f}\")"
   ],
   "id": "5d64a2492b802bfd",
   "outputs": [
    {
     "name": "stdout",
     "output_type": "stream",
     "text": [
      "Value: 1.000\n",
      "Value: 1.297\n",
      "Value: 1.595\n",
      "Value: 1.893\n",
      "Value: 2.190\n"
     ]
    }
   ],
   "execution_count": 37
  },
  {
   "metadata": {
    "ExecuteTime": {
     "end_time": "2025-03-09T15:47:23.475370Z",
     "start_time": "2025-03-09T15:47:23.470725Z"
    }
   },
   "cell_type": "code",
   "source": [
    "for i in [3/19, 4, .011, 'cow', {'fruits': {'kiwi', 'blueberry'}}, [0,0], np.linspace(-3,0,n)]:\n",
    "    print(i)"
   ],
   "id": "a5ae098bc2a99e60",
   "outputs": [
    {
     "name": "stdout",
     "output_type": "stream",
     "text": [
      "0.15789473684210525\n",
      "4\n",
      "0.011\n",
      "cow\n",
      "{'fruits': {'kiwi', 'blueberry'}}\n",
      "[0, 0]\n",
      "[-3.   -2.25 -1.5  -0.75  0.  ]\n"
     ]
    }
   ],
   "execution_count": 40
  },
  {
   "metadata": {},
   "cell_type": "markdown",
   "source": "## How add something to the np.array or list?\n",
   "id": "e407182aabcb63d1"
  },
  {
   "metadata": {
    "ExecuteTime": {
     "end_time": "2025-03-09T15:49:11.236738Z",
     "start_time": "2025-03-09T15:49:11.230986Z"
    }
   },
   "cell_type": "code",
   "source": [
    "x = []\n",
    "x.append(1)\n",
    "print(x)\n",
    "x.append(\"hello\")\n",
    "print(x)"
   ],
   "id": "b6a75e7dec71a598",
   "outputs": [
    {
     "name": "stdout",
     "output_type": "stream",
     "text": [
      "[1]\n",
      "[1, 'hello']\n"
     ]
    }
   ],
   "execution_count": 42
  },
  {
   "metadata": {
    "ExecuteTime": {
     "end_time": "2025-03-09T15:55:43.670806Z",
     "start_time": "2025-03-09T15:55:43.660931Z"
    }
   },
   "cell_type": "code",
   "source": [
    "y = np.zeros(shape=(2,4))\n",
    "print(f\"y: {y}\")\n",
    "y[0] = 6\n",
    "print(f\"y: {y}\")\n",
    "y[:,1] = 177\n",
    "print(f\"y: {y}\")"
   ],
   "id": "6f4e525d9ee4fbd6",
   "outputs": [
    {
     "name": "stdout",
     "output_type": "stream",
     "text": [
      "y: [[0. 0. 0. 0.]\n",
      " [0. 0. 0. 0.]]\n",
      "y: [[6. 6. 6. 6.]\n",
      " [0. 0. 0. 0.]]\n",
      "y: [[  6. 177.   6.   6.]\n",
      " [  0. 177.   0.   0.]]\n"
     ]
    }
   ],
   "execution_count": 57
  },
  {
   "metadata": {},
   "cell_type": "code",
   "outputs": [],
   "execution_count": null,
   "source": "",
   "id": "2d1ac2aa29ecd69e"
  }
 ],
 "metadata": {
  "kernelspec": {
   "display_name": "Python 3",
   "language": "python",
   "name": "python3"
  },
  "language_info": {
   "codemirror_mode": {
    "name": "ipython",
    "version": 2
   },
   "file_extension": ".py",
   "mimetype": "text/x-python",
   "name": "python",
   "nbconvert_exporter": "python",
   "pygments_lexer": "ipython2",
   "version": "2.7.6"
  }
 },
 "nbformat": 4,
 "nbformat_minor": 5
}
